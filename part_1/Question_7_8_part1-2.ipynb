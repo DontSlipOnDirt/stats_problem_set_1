{
  "nbformat": 4,
  "nbformat_minor": 0,
  "metadata": {
    "colab": {
      "provenance": []
    },
    "kernelspec": {
      "name": "python3",
      "display_name": "Python 3"
    },
    "language_info": {
      "name": "python"
    }
  },
  "cells": [
    {
      "cell_type": "code",
      "execution_count": null,
      "metadata": {
        "colab": {
          "base_uri": "https://localhost:8080/"
        },
        "id": "UkPCyr4Nuc3Z",
        "outputId": "c3b5db7b-bd8a-4687-bbac-fdb05f1c1d2f"
      },
      "outputs": [
        {
          "output_type": "stream",
          "name": "stdout",
          "text": [
            "Requirement already satisfied: pyreadstat in /usr/local/lib/python3.10/dist-packages (1.2.4)\n",
            "Requirement already satisfied: pandas>=1.2.0 in /usr/local/lib/python3.10/dist-packages (from pyreadstat) (1.5.3)\n",
            "Requirement already satisfied: python-dateutil>=2.8.1 in /usr/local/lib/python3.10/dist-packages (from pandas>=1.2.0->pyreadstat) (2.8.2)\n",
            "Requirement already satisfied: pytz>=2020.1 in /usr/local/lib/python3.10/dist-packages (from pandas>=1.2.0->pyreadstat) (2023.3.post1)\n",
            "Requirement already satisfied: numpy>=1.21.0 in /usr/local/lib/python3.10/dist-packages (from pandas>=1.2.0->pyreadstat) (1.23.5)\n",
            "Requirement already satisfied: six>=1.5 in /usr/local/lib/python3.10/dist-packages (from python-dateutil>=2.8.1->pandas>=1.2.0->pyreadstat) (1.16.0)\n",
            "     leg_party  leg_republican  leg_black  leg_latino  reply_atall  \\\n",
            "0            R               1          0           0          1.0   \n",
            "1            D               0          0           0          1.0   \n",
            "2            R               1          0           0          0.0   \n",
            "3            R               1          0           0          0.0   \n",
            "4            D               0          0           0          0.0   \n",
            "...        ...             ...        ...         ...          ...   \n",
            "4854         D               0          0           0          1.0   \n",
            "4855         R               1          0           0          1.0   \n",
            "4856         D               0          0           0          1.0   \n",
            "4857         R               1          0           0          1.0   \n",
            "4858         R               1          0           0          0.0   \n",
            "\n",
            "      treat_deshawn  treat_demprimary  treat_repprimary  treat_noprimary  \\\n",
            "0                 0                 1                 0                0   \n",
            "1                 1                 0                 1                0   \n",
            "2                 1                 0                 0                1   \n",
            "3                 1                 0                 0                1   \n",
            "4                 0                 0                 0                1   \n",
            "...             ...               ...               ...              ...   \n",
            "4854              0                 0                 0                1   \n",
            "4855              0                 1                 0                0   \n",
            "4856              0                 1                 0                0   \n",
            "4857              0                 0                 0                1   \n",
            "4858              1                 1                 0                0   \n",
            "\n",
            "      treat_group  treat_jake  leg_notwhite  leg_white  \\\n",
            "0               5           1           0.0        1.0   \n",
            "1               2           0           0.0        1.0   \n",
            "2               6           0           0.0        1.0   \n",
            "3               6           0           0.0        1.0   \n",
            "4               0           1           0.0        1.0   \n",
            "...           ...         ...           ...        ...   \n",
            "4854            0           1           0.0        1.0   \n",
            "4855            5           1           0.0        1.0   \n",
            "4856            5           1           0.0        1.0   \n",
            "4857            0           1           0.0        1.0   \n",
            "4858            4           0           0.0        1.0   \n",
            "\n",
            "      leg_notblackotherminority  treat_primary  \n",
            "0                           0.0            1.0  \n",
            "1                           0.0            1.0  \n",
            "2                           0.0            0.0  \n",
            "3                           0.0            0.0  \n",
            "4                           0.0            0.0  \n",
            "...                         ...            ...  \n",
            "4854                        0.0            0.0  \n",
            "4855                        0.0            1.0  \n",
            "4856                        0.0            1.0  \n",
            "4857                        0.0            0.0  \n",
            "4858                        0.0            1.0  \n",
            "\n",
            "[4859 rows x 15 columns]\n"
          ]
        }
      ],
      "source": [
        "!pip install pyreadstat\n",
        "import numpy as np\n",
        "import pandas as pd\n",
        "import pyreadstat\n",
        "\n",
        "\n",
        "\n",
        "\n",
        "def read_stata_file(file_path):\n",
        "    # Read Stata file into a DataFrame\n",
        "    df, _ = pyreadstat.read_dta(file_path)\n",
        "    return df\n",
        "\n",
        "# Load  Stata dataset\n",
        "your_data = read_stata_file('Butler_Broockman_AJPS_2011_public_dta.dta')\n",
        "your_data = your_data.dropna(subset=['reply_atall', 'treat_group', 'treat_demprimary', 'treat_repprimary'])\n",
        "your_data['reply_atall'] = your_data['reply_atall'].astype(float)\n",
        "\n",
        "print(your_data)\n",
        "\n",
        "\n"
      ]
    },
    {
      "cell_type": "code",
      "source": [
        "import pandas as pd\n",
        "import numpy as np\n",
        "\n",
        "def permutation_test(data, treatment_column, outcome_column, num_permutations=1000, seed=None):\n",
        "    if seed:\n",
        "        np.random.seed(seed)\n",
        "\n",
        "    observed_diff = data.groupby(treatment_column)[outcome_column].mean().diff().iloc[-1]\n",
        "\n",
        "    permutations = []\n",
        "    for _ in range(num_permutations):\n",
        "        shuffled_outcome = (\n",
        "            data[outcome_column]\n",
        "            .sample(frac=1, replace=False)\n",
        "            .reset_index(drop=True)\n",
        "        )\n",
        "        shuffled_data = data.assign(**{outcome_column: shuffled_outcome})\n",
        "        diff = shuffled_data.groupby(treatment_column)[outcome_column].mean().diff().iloc[-1]\n",
        "        permutations.append(diff)\n",
        "\n",
        "    p_value = (np.abs(permutations) >= np.abs(observed_diff)).mean()\n",
        "\n",
        "    return {'observed_statistic': observed_diff, 'p_value': p_value}\n",
        "\n",
        "\n",
        "result_no_partisanship = permutation_test(your_data, 'treat_noprimary', 'reply_atall', seed=42)\n",
        "result_democratic = permutation_test(your_data, 'treat_demprimary', 'reply_atall', seed=42)\n",
        "result_republican = permutation_test(your_data, 'treat_repprimary', 'reply_atall', seed=42)\n",
        "\n",
        "print(\"No Partisanship Signal:\")\n",
        "print(result_no_partisanship)\n",
        "\n",
        "print(\"\\nDemocratic Signal:\")\n",
        "print(result_democratic)\n",
        "\n",
        "print(\"\\nRepublican Signal:\")\n",
        "print(result_republican)\n"
      ],
      "metadata": {
        "colab": {
          "base_uri": "https://localhost:8080/"
        },
        "id": "4sKQjnz0yjLc",
        "outputId": "a7201f60-0a01-45d0-97e4-f86a8e73430f"
      },
      "execution_count": null,
      "outputs": [
        {
          "output_type": "stream",
          "name": "stdout",
          "text": [
            "No Partisanship Signal:\n",
            "{'observed_statistic': 0.02064040421530533, 'p_value': 0.202}\n",
            "\n",
            "Democratic Signal:\n",
            "{'observed_statistic': -0.0034981179269369944, 'p_value': 0.845}\n",
            "\n",
            "Republican Signal:\n",
            "{'observed_statistic': -0.017086906048901174, 'p_value': 0.267}\n"
          ]
        }
      ]
    },
    {
      "cell_type": "code",
      "source": [
        "\n",
        "\n",
        "# Select data for Republican legislators under no partisanship signal\n",
        "republican_no_partisanship = your_data[(your_data['leg_party'] == 'R') & (your_data['treat_noprimary'] == 1)]\n",
        "\n",
        "# Calculate the mean response for DeShawn and Jake for Republicans\n",
        "sate_republican = republican_no_partisanship['treat_jake'].mean() - republican_no_partisanship['treat_deshawn'].mean()\n",
        "\n",
        "# Select data for Democratic legislators under no partisanship signal\n",
        "democrat_no_partisanship = your_data[(your_data['leg_party'] == 'D') & (your_data['treat_noprimary'] == 1)]\n",
        "\n",
        "# Calculate the mean response for DeShawn and Jake for Democrats\n",
        "sate_democrat = democrat_no_partisanship['treat_jake'].mean() - democrat_no_partisanship['treat_deshawn'].mean()\n",
        "\n",
        "# Print the results\n",
        "print(\"SATE for Republican Legislators:\", sate_republican)\n",
        "print(\"SATE for Democratic Legislators:\", sate_democrat)\n"
      ],
      "metadata": {
        "colab": {
          "base_uri": "https://localhost:8080/"
        },
        "id": "i8gHYI6v58JS",
        "outputId": "fbc6891a-eae5-40b7-e0ab-a0db810b58e1"
      },
      "execution_count": null,
      "outputs": [
        {
          "output_type": "stream",
          "name": "stdout",
          "text": [
            "SATE for Republican Legislators: 0.00552486187845308\n",
            "SATE for Democratic Legislators: 0.0022371364653244186\n"
          ]
        }
      ]
    }
  ]
}