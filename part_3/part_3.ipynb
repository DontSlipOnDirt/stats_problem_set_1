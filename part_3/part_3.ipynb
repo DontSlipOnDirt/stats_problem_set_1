{
  "cells": [
    {
      "cell_type": "markdown",
      "metadata": {},
      "source": [
        "# Imports"
      ]
    },
    {
      "cell_type": "code",
      "execution_count": 1,
      "metadata": {
        "id": "K5GPMsSw69rm"
      },
      "outputs": [],
      "source": [
        "from sklearn.ensemble import RandomForestClassifier\n",
        "from sklearn.preprocessing import MinMaxScaler\n",
        "from sklearn.neighbors import NearestNeighbors\n",
        "import matplotlib.pyplot as plt\n",
        "import seaborn as sns\n",
        "import pandas as pd"
      ]
    },
    {
      "cell_type": "markdown",
      "metadata": {
        "id": "cUoJaUaw7Eoh"
      },
      "source": [
        "# Question 1"
      ]
    },
    {
      "cell_type": "code",
      "execution_count": 2,
      "metadata": {
        "id": "ZcdT__c36_QK"
      },
      "outputs": [],
      "source": [
        "# Read Data\n",
        "df = pd.read_stata('data\\war_pre_snapshots.dta')"
      ]
    },
    {
      "cell_type": "code",
      "execution_count": 3,
      "metadata": {
        "colab": {
          "base_uri": "https://localhost:8080/"
        },
        "id": "Ptzlg1yA7Udy",
        "outputId": "0ac47e34-ead3-446e-848f-329bed6b9c68"
      },
      "outputs": [
        {
          "data": {
            "text/plain": [
              "Index(['id', 'cname', 'ccode', 'date0', 'date1', 'UN', 'inter', 'deaths',\n",
              "       'couprev', 'sos', 'drugs', 'ethfrac', 'pop', 'lmtnest', 'milper',\n",
              "       'eeurop', 'lamerica', 'asia', 'ssafrica', 'nafrme', 't0', '_st', 't',\n",
              "       '_d', 'dur', 'ldur'],\n",
              "      dtype='object')"
            ]
          },
          "execution_count": 3,
          "metadata": {},
          "output_type": "execute_result"
        }
      ],
      "source": [
        "df.columns"
      ]
    },
    {
      "cell_type": "code",
      "execution_count": 4,
      "metadata": {
        "id": "HOa295fUCngd"
      },
      "outputs": [],
      "source": [
        "df.drop(columns=['id','date0', 'date1','_st','t0','t','dur','ccode','cname'],inplace = True)"
      ]
    },
    {
      "cell_type": "code",
      "execution_count": 5,
      "metadata": {
        "colab": {
          "base_uri": "https://localhost:8080/",
          "height": 206
        },
        "id": "gnP1qn6yLUNz",
        "outputId": "58e17c3e-006f-4cfe-eb4d-29d3df2baad4"
      },
      "outputs": [
        {
          "data": {
            "text/html": [
              "<div>\n",
              "<style scoped>\n",
              "    .dataframe tbody tr th:only-of-type {\n",
              "        vertical-align: middle;\n",
              "    }\n",
              "\n",
              "    .dataframe tbody tr th {\n",
              "        vertical-align: top;\n",
              "    }\n",
              "\n",
              "    .dataframe thead th {\n",
              "        text-align: right;\n",
              "    }\n",
              "</style>\n",
              "<table border=\"1\" class=\"dataframe\">\n",
              "  <thead>\n",
              "    <tr style=\"text-align: right;\">\n",
              "      <th></th>\n",
              "      <th>UN</th>\n",
              "      <th>inter</th>\n",
              "      <th>deaths</th>\n",
              "      <th>couprev</th>\n",
              "      <th>sos</th>\n",
              "      <th>drugs</th>\n",
              "      <th>ethfrac</th>\n",
              "      <th>pop</th>\n",
              "      <th>lmtnest</th>\n",
              "      <th>milper</th>\n",
              "      <th>eeurop</th>\n",
              "      <th>lamerica</th>\n",
              "      <th>asia</th>\n",
              "      <th>ssafrica</th>\n",
              "      <th>nafrme</th>\n",
              "      <th>_d</th>\n",
              "      <th>ldur</th>\n",
              "    </tr>\n",
              "  </thead>\n",
              "  <tbody>\n",
              "    <tr>\n",
              "      <th>0</th>\n",
              "      <td>0.0</td>\n",
              "      <td>0.0</td>\n",
              "      <td>5.521461</td>\n",
              "      <td>1.0</td>\n",
              "      <td>0.0</td>\n",
              "      <td>0.0</td>\n",
              "      <td>1.359123</td>\n",
              "      <td>8.793764</td>\n",
              "      <td>2.797281</td>\n",
              "      <td>2.079442</td>\n",
              "      <td>0.0</td>\n",
              "      <td>1.0</td>\n",
              "      <td>0.0</td>\n",
              "      <td>0.0</td>\n",
              "      <td>0.0</td>\n",
              "      <td>1</td>\n",
              "      <td>2.397895</td>\n",
              "    </tr>\n",
              "    <tr>\n",
              "      <th>1</th>\n",
              "      <td>0.0</td>\n",
              "      <td>0.0</td>\n",
              "      <td>6.214608</td>\n",
              "      <td>0.0</td>\n",
              "      <td>0.0</td>\n",
              "      <td>0.0</td>\n",
              "      <td>64.368416</td>\n",
              "      <td>9.028818</td>\n",
              "      <td>3.763523</td>\n",
              "      <td>3.761200</td>\n",
              "      <td>0.0</td>\n",
              "      <td>1.0</td>\n",
              "      <td>0.0</td>\n",
              "      <td>0.0</td>\n",
              "      <td>0.0</td>\n",
              "      <td>1</td>\n",
              "      <td>4.553877</td>\n",
              "    </tr>\n",
              "    <tr>\n",
              "      <th>2</th>\n",
              "      <td>1.0</td>\n",
              "      <td>0.0</td>\n",
              "      <td>5.010635</td>\n",
              "      <td>0.0</td>\n",
              "      <td>0.0</td>\n",
              "      <td>0.0</td>\n",
              "      <td>16.591871</td>\n",
              "      <td>8.557567</td>\n",
              "      <td>2.424803</td>\n",
              "      <td>4.094345</td>\n",
              "      <td>0.0</td>\n",
              "      <td>1.0</td>\n",
              "      <td>0.0</td>\n",
              "      <td>0.0</td>\n",
              "      <td>0.0</td>\n",
              "      <td>1</td>\n",
              "      <td>1.609438</td>\n",
              "    </tr>\n",
              "    <tr>\n",
              "      <th>3</th>\n",
              "      <td>0.0</td>\n",
              "      <td>0.0</td>\n",
              "      <td>8.006368</td>\n",
              "      <td>0.0</td>\n",
              "      <td>0.0</td>\n",
              "      <td>1.0</td>\n",
              "      <td>17.932869</td>\n",
              "      <td>8.204125</td>\n",
              "      <td>2.332144</td>\n",
              "      <td>4.304065</td>\n",
              "      <td>0.0</td>\n",
              "      <td>1.0</td>\n",
              "      <td>0.0</td>\n",
              "      <td>0.0</td>\n",
              "      <td>0.0</td>\n",
              "      <td>1</td>\n",
              "      <td>3.135494</td>\n",
              "    </tr>\n",
              "    <tr>\n",
              "      <th>4</th>\n",
              "      <td>0.0</td>\n",
              "      <td>0.0</td>\n",
              "      <td>6.570883</td>\n",
              "      <td>0.0</td>\n",
              "      <td>0.0</td>\n",
              "      <td>1.0</td>\n",
              "      <td>6.015271</td>\n",
              "      <td>10.422281</td>\n",
              "      <td>3.640214</td>\n",
              "      <td>4.330733</td>\n",
              "      <td>0.0</td>\n",
              "      <td>1.0</td>\n",
              "      <td>0.0</td>\n",
              "      <td>0.0</td>\n",
              "      <td>0.0</td>\n",
              "      <td>0</td>\n",
              "      <td>5.252274</td>\n",
              "    </tr>\n",
              "  </tbody>\n",
              "</table>\n",
              "</div>"
            ],
            "text/plain": [
              "    UN  inter    deaths  couprev  sos  drugs    ethfrac        pop   lmtnest  \\\n",
              "0  0.0    0.0  5.521461      1.0  0.0    0.0   1.359123   8.793764  2.797281   \n",
              "1  0.0    0.0  6.214608      0.0  0.0    0.0  64.368416   9.028818  3.763523   \n",
              "2  1.0    0.0  5.010635      0.0  0.0    0.0  16.591871   8.557567  2.424803   \n",
              "3  0.0    0.0  8.006368      0.0  0.0    1.0  17.932869   8.204125  2.332144   \n",
              "4  0.0    0.0  6.570883      0.0  0.0    1.0   6.015271  10.422281  3.640214   \n",
              "\n",
              "     milper  eeurop  lamerica  asia  ssafrica  nafrme  _d      ldur  \n",
              "0  2.079442     0.0       1.0   0.0       0.0     0.0   1  2.397895  \n",
              "1  3.761200     0.0       1.0   0.0       0.0     0.0   1  4.553877  \n",
              "2  4.094345     0.0       1.0   0.0       0.0     0.0   1  1.609438  \n",
              "3  4.304065     0.0       1.0   0.0       0.0     0.0   1  3.135494  \n",
              "4  4.330733     0.0       1.0   0.0       0.0     0.0   0  5.252274  "
            ]
          },
          "execution_count": 5,
          "metadata": {},
          "output_type": "execute_result"
        }
      ],
      "source": [
        "df.head()"
      ]
    },
    {
      "cell_type": "code",
      "execution_count": 6,
      "metadata": {
        "id": "thkbzJxzAQLd"
      },
      "outputs": [],
      "source": [
        "outcome_variable = 'ldur'\n",
        "treatment_variable = 'UN'\n",
        "covariates = ['inter', 'deaths', 'couprev', 'sos','ethfrac' ,'drugs', 'pop', 'lmtnest',\n",
        "              'milper', 'eeurop', 'lamerica', 'asia', 'ssafrica', 'nafrme', '_d',]"
      ]
    },
    {
      "cell_type": "markdown",
      "metadata": {},
      "source": [
        "Normalizing the DataFrame"
      ]
    },
    {
      "cell_type": "code",
      "execution_count": 7,
      "metadata": {
        "id": "Tk7yhSM7qT6f"
      },
      "outputs": [],
      "source": [
        "scaler = MinMaxScaler()\n",
        "normalized_data = scaler.fit_transform(df)\n",
        "df = pd.DataFrame(normalized_data, columns=df.columns)"
      ]
    },
    {
      "cell_type": "code",
      "execution_count": 8,
      "metadata": {
        "colab": {
          "base_uri": "https://localhost:8080/",
          "height": 206
        },
        "id": "cf592kVVqlXm",
        "outputId": "d96afa8b-9de2-408c-9182-57fafc53a332"
      },
      "outputs": [
        {
          "data": {
            "text/html": [
              "<div>\n",
              "<style scoped>\n",
              "    .dataframe tbody tr th:only-of-type {\n",
              "        vertical-align: middle;\n",
              "    }\n",
              "\n",
              "    .dataframe tbody tr th {\n",
              "        vertical-align: top;\n",
              "    }\n",
              "\n",
              "    .dataframe thead th {\n",
              "        text-align: right;\n",
              "    }\n",
              "</style>\n",
              "<table border=\"1\" class=\"dataframe\">\n",
              "  <thead>\n",
              "    <tr style=\"text-align: right;\">\n",
              "      <th></th>\n",
              "      <th>UN</th>\n",
              "      <th>inter</th>\n",
              "      <th>deaths</th>\n",
              "      <th>couprev</th>\n",
              "      <th>sos</th>\n",
              "      <th>drugs</th>\n",
              "      <th>ethfrac</th>\n",
              "      <th>pop</th>\n",
              "      <th>lmtnest</th>\n",
              "      <th>milper</th>\n",
              "      <th>eeurop</th>\n",
              "      <th>lamerica</th>\n",
              "      <th>asia</th>\n",
              "      <th>ssafrica</th>\n",
              "      <th>nafrme</th>\n",
              "      <th>_d</th>\n",
              "      <th>ldur</th>\n",
              "    </tr>\n",
              "  </thead>\n",
              "  <tbody>\n",
              "    <tr>\n",
              "      <th>0</th>\n",
              "      <td>0.0</td>\n",
              "      <td>0.0</td>\n",
              "      <td>0.512212</td>\n",
              "      <td>1.0</td>\n",
              "      <td>0.0</td>\n",
              "      <td>0.0</td>\n",
              "      <td>0.009609</td>\n",
              "      <td>0.344594</td>\n",
              "      <td>0.634776</td>\n",
              "      <td>0.287048</td>\n",
              "      <td>0.0</td>\n",
              "      <td>1.0</td>\n",
              "      <td>0.0</td>\n",
              "      <td>0.0</td>\n",
              "      <td>0.0</td>\n",
              "      <td>1.0</td>\n",
              "      <td>0.456544</td>\n",
              "    </tr>\n",
              "    <tr>\n",
              "      <th>1</th>\n",
              "      <td>0.0</td>\n",
              "      <td>0.0</td>\n",
              "      <td>0.576513</td>\n",
              "      <td>0.0</td>\n",
              "      <td>0.0</td>\n",
              "      <td>0.0</td>\n",
              "      <td>0.712323</td>\n",
              "      <td>0.376169</td>\n",
              "      <td>0.854042</td>\n",
              "      <td>0.519200</td>\n",
              "      <td>0.0</td>\n",
              "      <td>1.0</td>\n",
              "      <td>0.0</td>\n",
              "      <td>0.0</td>\n",
              "      <td>0.0</td>\n",
              "      <td>1.0</td>\n",
              "      <td>0.867030</td>\n",
              "    </tr>\n",
              "    <tr>\n",
              "      <th>2</th>\n",
              "      <td>1.0</td>\n",
              "      <td>0.0</td>\n",
              "      <td>0.464824</td>\n",
              "      <td>0.0</td>\n",
              "      <td>0.0</td>\n",
              "      <td>0.0</td>\n",
              "      <td>0.179493</td>\n",
              "      <td>0.312865</td>\n",
              "      <td>0.550251</td>\n",
              "      <td>0.565187</td>\n",
              "      <td>0.0</td>\n",
              "      <td>1.0</td>\n",
              "      <td>0.0</td>\n",
              "      <td>0.0</td>\n",
              "      <td>0.0</td>\n",
              "      <td>1.0</td>\n",
              "      <td>0.306427</td>\n",
              "    </tr>\n",
              "    <tr>\n",
              "      <th>3</th>\n",
              "      <td>0.0</td>\n",
              "      <td>0.0</td>\n",
              "      <td>0.742730</td>\n",
              "      <td>0.0</td>\n",
              "      <td>0.0</td>\n",
              "      <td>1.0</td>\n",
              "      <td>0.194449</td>\n",
              "      <td>0.265387</td>\n",
              "      <td>0.529225</td>\n",
              "      <td>0.594137</td>\n",
              "      <td>0.0</td>\n",
              "      <td>1.0</td>\n",
              "      <td>0.0</td>\n",
              "      <td>0.0</td>\n",
              "      <td>0.0</td>\n",
              "      <td>1.0</td>\n",
              "      <td>0.596978</td>\n",
              "    </tr>\n",
              "    <tr>\n",
              "      <th>4</th>\n",
              "      <td>0.0</td>\n",
              "      <td>0.0</td>\n",
              "      <td>0.609564</td>\n",
              "      <td>0.0</td>\n",
              "      <td>0.0</td>\n",
              "      <td>1.0</td>\n",
              "      <td>0.061537</td>\n",
              "      <td>0.563354</td>\n",
              "      <td>0.826060</td>\n",
              "      <td>0.597818</td>\n",
              "      <td>0.0</td>\n",
              "      <td>1.0</td>\n",
              "      <td>0.0</td>\n",
              "      <td>0.0</td>\n",
              "      <td>0.0</td>\n",
              "      <td>0.0</td>\n",
              "      <td>1.000000</td>\n",
              "    </tr>\n",
              "  </tbody>\n",
              "</table>\n",
              "</div>"
            ],
            "text/plain": [
              "    UN  inter    deaths  couprev  sos  drugs   ethfrac       pop   lmtnest  \\\n",
              "0  0.0    0.0  0.512212      1.0  0.0    0.0  0.009609  0.344594  0.634776   \n",
              "1  0.0    0.0  0.576513      0.0  0.0    0.0  0.712323  0.376169  0.854042   \n",
              "2  1.0    0.0  0.464824      0.0  0.0    0.0  0.179493  0.312865  0.550251   \n",
              "3  0.0    0.0  0.742730      0.0  0.0    1.0  0.194449  0.265387  0.529225   \n",
              "4  0.0    0.0  0.609564      0.0  0.0    1.0  0.061537  0.563354  0.826060   \n",
              "\n",
              "     milper  eeurop  lamerica  asia  ssafrica  nafrme   _d      ldur  \n",
              "0  0.287048     0.0       1.0   0.0       0.0     0.0  1.0  0.456544  \n",
              "1  0.519200     0.0       1.0   0.0       0.0     0.0  1.0  0.867030  \n",
              "2  0.565187     0.0       1.0   0.0       0.0     0.0  1.0  0.306427  \n",
              "3  0.594137     0.0       1.0   0.0       0.0     0.0  1.0  0.596978  \n",
              "4  0.597818     0.0       1.0   0.0       0.0     0.0  0.0  1.000000  "
            ]
          },
          "execution_count": 8,
          "metadata": {},
          "output_type": "execute_result"
        }
      ],
      "source": [
        "df.head()"
      ]
    },
    {
      "cell_type": "markdown",
      "metadata": {
        "id": "81Sx6pvlVJCh"
      },
      "source": [
        "# Question 2"
      ]
    },
    {
      "cell_type": "code",
      "execution_count": 9,
      "metadata": {
        "colab": {
          "base_uri": "https://localhost:8080/",
          "height": 670
        },
        "id": "vXzr08NdMeks",
        "outputId": "7110e6bd-4bed-4eeb-f8d5-877786415ab1"
      },
      "outputs": [
        {
          "name": "stderr",
          "output_type": "stream",
          "text": [
            "C:\\Users\\Lenovo\\AppData\\Local\\Temp\\ipykernel_11760\\2598890162.py:14: FutureWarning: \n",
            "\n",
            "`shade` is now deprecated in favor of `fill`; setting `fill=True`.\n",
            "This will become an error in seaborn v0.14.0; please update your code.\n",
            "\n",
            "  sns.kdeplot(treated_data['propensity_score'], label='Treated', shade=True)\n",
            "C:\\Users\\Lenovo\\AppData\\Local\\Temp\\ipykernel_11760\\2598890162.py:15: FutureWarning: \n",
            "\n",
            "`shade` is now deprecated in favor of `fill`; setting `fill=True`.\n",
            "This will become an error in seaborn v0.14.0; please update your code.\n",
            "\n",
            "  sns.kdeplot(control_data['propensity_score'], label='Control', shade=True)\n"
          ]
        },
        {
          "data": {
            "image/png": "[encoded data removed]",
            "text/plain": [
              "<Figure size 640x480 with 1 Axes>"
            ]
          },
          "metadata": {},
          "output_type": "display_data"
        }
      ],
      "source": [
        "X = df[covariates]\n",
        "treatment = df['UN']\n",
        "\n",
        "rf_model = RandomForestClassifier(n_estimators=100, random_state=42)\n",
        "rf_model.fit(X, treatment)\n",
        "\n",
        "# Predict propensity scores\n",
        "df['propensity_score'] = rf_model.predict_proba(X)[:, 1]\n",
        "\n",
        "# Create Density Plots\n",
        "treated_data = df[df[treatment_variable] == 1]\n",
        "control_data = df[df[treatment_variable] == 0]\n",
        "\n",
        "sns.kdeplot(treated_data['propensity_score'], label='Treated', shade=True)\n",
        "sns.kdeplot(control_data['propensity_score'], label='Control', shade=True)\n",
        "plt.xlabel('Propensity Score')\n",
        "plt.ylabel('Density')\n",
        "plt.legend()\n",
        "plt.show()\n"
      ]
    },
    {
      "cell_type": "code",
      "execution_count": 10,
      "metadata": {
        "colab": {
          "base_uri": "https://localhost:8080/"
        },
        "id": "FWz6v00uPxKY",
        "outputId": "72c4a0d0-d617-47f4-df0e-95e67a4ad8cd"
      },
      "outputs": [
        {
          "name": "stdout",
          "output_type": "stream",
          "text": [
            "UN\n",
            "0.0    1211\n",
            "1.0      16\n",
            "Name: count, dtype: int64\n"
          ]
        }
      ],
      "source": [
        "print(df[treatment_variable].value_counts())"
      ]
    },
    {
      "cell_type": "markdown",
      "metadata": {
        "id": "0V5Uv1zyUqb2"
      },
      "source": [
        "**Density Plot Skewed Towards One Group, it indicates a lack of balance in covariates between the groups.**<br>\n",
        "**Overlap Assumption is violated. There are regions of the covariate space where one group has a lower probability to receive the treatment compared to the other, violating the overlap assumption.**"
      ]
    },
    {
      "cell_type": "markdown",
      "metadata": {
        "id": "C9pw4pUpVLyf"
      },
      "source": [
        "# Question 3"
      ]
    },
    {
      "cell_type": "code",
      "execution_count": 11,
      "metadata": {
        "colab": {
          "base_uri": "https://localhost:8080/"
        },
        "id": "0LudKrPdVCfj",
        "outputId": "c39f48c8-b04d-41d5-bcb7-a877b259d188"
      },
      "outputs": [
        {
          "name": "stdout",
          "output_type": "stream",
          "text": [
            "     Feature  Importance\n",
            "8     milper    0.252799\n",
            "7    lmtnest    0.176025\n",
            "6        pop    0.168101\n",
            "1     deaths    0.131480\n",
            "4    ethfrac    0.124662\n",
            "9     eeurop    0.030165\n",
            "0      inter    0.024619\n",
            "5      drugs    0.023682\n",
            "3        sos    0.016199\n",
            "2    couprev    0.012553\n",
            "12  ssafrica    0.012173\n",
            "13    nafrme    0.010824\n",
            "11      asia    0.005813\n",
            "14        _d    0.005678\n",
            "10  lamerica    0.005229\n"
          ]
        }
      ],
      "source": [
        "feature_importances = rf_model.feature_importances_\n",
        "\n",
        "# Create a DataFrame to display feature importances\n",
        "feature_importance_df = pd.DataFrame({'Feature': covariates, 'Importance': feature_importances})\n",
        "\n",
        "# Sort the DataFrame by importance in descending order\n",
        "feature_importance_df = feature_importance_df.sort_values(by='Importance', ascending=False)\n",
        "\n",
        "# Print or visualize the feature importances\n",
        "print(feature_importance_df)"
      ]
    },
    {
      "cell_type": "markdown",
      "metadata": {
        "id": "Whog4dXqV7hC"
      },
      "source": [
        "* **milper (Military Personnel) has the highest importance score. pop (Population) and lmtnest (Log of Mountainous and Desert Terrain Area) also have relatively high importance scores.**\n",
        "* **Gini importance measure was used. It is computed based on the total decrease in node impurity (typically Gini impurity) weighted by the probability of reaching that node.**\n",
        "* **It is sensible that as the UN intervenes when the country at conflict has a large number of Military Personnel and population.**"
      ]
    },
    {
      "cell_type": "markdown",
      "metadata": {
        "id": "OyM_FJPS7C5C"
      },
      "source": [
        "# Question 4"
      ]
    },
    {
      "cell_type": "code",
      "execution_count": 12,
      "metadata": {
        "colab": {
          "base_uri": "https://localhost:8080/",
          "height": 603
        },
        "id": "WO8c-Be8VC_w",
        "outputId": "fa7e132a-c708-4162-8c6d-e71ea455ef6c"
      },
      "outputs": [
        {
          "data": {
            "image/png": "[encoded data removed]",
            "text/plain": [
              "<Figure size 1000x600 with 1 Axes>"
            ]
          },
          "metadata": {},
          "output_type": "display_data"
        }
      ],
      "source": [
        "# Implement one-to-one matching and check covariate balance\n",
        "propensity_scores = df['propensity_score']\n",
        "treated_group = df[df[treatment_variable] == 1]\n",
        "control_group = df[df[treatment_variable] == 0]\n",
        "\n",
        "# Reshape the propensity scores for compatibility with NearestNeighbors\n",
        "propensity_scores = propensity_scores.values.reshape(-1, 1)\n",
        "\n",
        "# Use Nearest Neighbors to perform one-to-one matching\n",
        "nn = NearestNeighbors(n_neighbors=1)\n",
        "nn.fit(propensity_scores)\n",
        "\n",
        "# Find the nearest neighbors for the treated group\n",
        "distances, indices = nn.kneighbors(propensity_scores[treated_group.index])\n",
        "\n",
        "# Extract matched control group indices\n",
        "matched_control_indices = indices.flatten()\n",
        "\n",
        "# Create matched datasets\n",
        "matched_treated = treated_group.copy()\n",
        "matched_control = control_group.iloc[matched_control_indices]\n",
        "\n",
        "# Combine matched datasets\n",
        "matched_data = pd.concat([matched_treated, matched_control])\n",
        "\n",
        "# Check balance on pre-treatment covariates\n",
        "covariate_balance = pd.DataFrame({\n",
        "    'Covariate': covariates,\n",
        "    'Before Matching': df[covariates].mean(),\n",
        "    'After Matching': matched_data[covariates].mean()\n",
        "})\n",
        "\n",
        "# Melt the DataFrame\n",
        "covariate_balance_melted = covariate_balance.melt(id_vars='Covariate', var_name='Matching Status', value_name='Mean Value')\n",
        "\n",
        "# Plot covariate balance\n",
        "plt.figure(figsize=(10, 6))\n",
        "sns.barplot(x='Covariate', y='Mean Value', hue='Matching Status', data=covariate_balance_melted)\n",
        "plt.title('Covariate Balance Before and After Matching')\n",
        "plt.ylabel('Mean Value')\n",
        "plt.xlabel('Covariates')\n",
        "plt.xticks(rotation=45)\n",
        "plt.show()"
      ]
    },
    {
      "cell_type": "markdown",
      "metadata": {},
      "source": [
        "* **It improved the balance of the pre-treatment covariates.**\n",
        "* **If the mean increases then their is a potential imbalance after matching, if the mean decreaased then it successfully improved the balance**\n",
        "* **Some covariate got worse specially \"inter\" and eeurop**\n",
        "* **Most of them got improved specially \"asia\" and \"sos\"**\n",
        "* **Overall the number of covariates that got improved is more than the ones that got imbalanced which proves that matching helped in improving the quality of the data**"
      ]
    },
    {
      "cell_type": "markdown",
      "metadata": {
        "id": "fhjAfOH-_xlX"
      },
      "source": [
        "# Question 5"
      ]
    },
    {
      "cell_type": "markdown",
      "metadata": {},
      "source": [
        "* **Tried to use a package that converts r libraries to python but it didn't work.**\n",
        "* **The microsoft library (econml) I tried to use, unfortunately the only example that exists, uses an older version. Even when I tried to get the exact version used in the example, it didn't work.**"
      ]
    },
    {
      "cell_type": "code",
      "execution_count": null,
      "metadata": {
        "colab": {
          "base_uri": "https://localhost:8080/"
        },
        "id": "ebFHBpO_-MvX",
        "outputId": "f3fbcf47-4156-43c3-c3fa-600a4cfa5887"
      },
      "outputs": [
        {
          "name": "stdout",
          "output_type": "stream",
          "text": [
            "Requirement already satisfied: rpy2 in /usr/local/lib/python3.10/dist-packages (3.4.2)\n",
            "Requirement already satisfied: cffi>=1.10.0 in /usr/local/lib/python3.10/dist-packages (from rpy2) (1.16.0)\n",
            "Requirement already satisfied: jinja2 in /usr/local/lib/python3.10/dist-packages (from rpy2) (3.1.2)\n",
            "Requirement already satisfied: pytz in /usr/local/lib/python3.10/dist-packages (from rpy2) (2023.3.post1)\n",
            "Requirement already satisfied: tzlocal in /usr/local/lib/python3.10/dist-packages (from rpy2) (5.2)\n",
            "Requirement already satisfied: pycparser in /usr/local/lib/python3.10/dist-packages (from cffi>=1.10.0->rpy2) (2.21)\n",
            "Requirement already satisfied: MarkupSafe>=2.0 in /usr/local/lib/python3.10/dist-packages (from jinja2->rpy2) (2.1.3)\n",
            "Collecting causalinference\n",
            "  Downloading CausalInference-0.1.3-py3-none-any.whl (51 kB)\n",
            "\u001b[2K     \u001b[90m━━━━━━━━━━━━━━━━━━━━━━━━━━━━━━━━━━━━━━━━\u001b[0m \u001b[32m51.1/51.1 kB\u001b[0m \u001b[31m912.0 kB/s\u001b[0m eta \u001b[36m0:00:00\u001b[0m\n",
            "\u001b[?25hInstalling collected packages: causalinference\n",
            "Successfully installed causalinference-0.1.3\n"
          ]
        }
      ],
      "source": [
        "# ! pip install rpy2\n",
        "# ! pip install causalinference\n",
        "# !pip install econml==0.10.0\n",
        "# ! pip install grf"
      ]
    },
    {
      "cell_type": "code",
      "execution_count": null,
      "metadata": {
        "id": "1pyRTvDgVDG8"
      },
      "outputs": [],
      "source": [
        "from econml.dml import CausalForestDML\n",
        "from sklearn.model_selection import train_test_split\n",
        "from sklearn.ensemble import RandomForestRegressor\n",
        "\n",
        "# Assuming df is your DataFrame\n",
        "\n",
        "# Select relevant columns\n",
        "data = df[covariates + [outcome_variable, treatment_variable]]\n",
        "\n",
        "# Split the data into training and testing sets\n",
        "train_data, test_data = train_test_split(data, test_size=0.2, random_state=42)\n",
        "\n",
        "# Specify the treatment effect model\n",
        "model = RandomForestRegressor(n_estimators=100, max_depth=5, random_state=42)\n",
        "\n",
        "# Initialize the CausalForestDML model with hyperparameters\n",
        "cf_model = CausalForestDML()\n",
        "\n",
        "# Fit the CausalForestDML model\n",
        "cf_model.fit(Y=train_data[outcome_variable], T=train_data[treatment_variable], X=train_data[covariates])\n",
        "\n",
        "# Estimate treatment effects on the test set\n",
        "treatment_effects = cf_model.effect(test_data[covariates])\n",
        "\n",
        "# Analyze and interpret the results\n",
        "# ...\n",
        "\n",
        "# Access other model attributes if needed\n",
        "# print(cf_model.summary())\n",
        "# print(cf_model.get_importance())\n"
      ]
    },
    {
      "cell_type": "code",
      "execution_count": null,
      "metadata": {
        "colab": {
          "base_uri": "https://localhost:8080/"
        },
        "id": "cMBVCy6b-Geu",
        "outputId": "a743e9bb-ac68-49e4-a921-060beaf96b88"
      },
      "outputs": [
        {
          "name": "stdout",
          "output_type": "stream",
          "text": [
            "Population summary results are available only if `cache_values=True` at fit time!\n",
            "Doubly Robust ATE on Training Data Results:  Doubly Robust ATE calculation on training data is available only on discrete treatments!\n",
            "Doubly Robust ATT on Training Data Results:  Doubly Robust ATT calculation on training data is available only on discrete treatments!\n"
          ]
        }
      ],
      "source": [
        "  # cf_model.summary()"
      ]
    },
    {
      "cell_type": "code",
      "execution_count": null,
      "metadata": {
        "colab": {
          "base_uri": "https://localhost:8080/",
          "height": 182
        },
        "id": "N4kVLyRm3N34",
        "outputId": "0494118d-4c39-4298-eb2d-f1332ba99cfd"
      },
      "outputs": [
        {
          "ename": "AttributeError",
          "evalue": "ignored",
          "output_type": "error",
          "traceback": [
            "\u001b[0;31m---------------------------------------------------------------------------\u001b[0m",
            "\u001b[0;31mAttributeError\u001b[0m                            Traceback (most recent call last)",
            "\u001b[0;32m<ipython-input-106-8ca3422d6c50>\u001b[0m in \u001b[0;36m<cell line: 1>\u001b[0;34m()\u001b[0m\n\u001b[0;32m----> 1\u001b[0;31m \u001b[0mcf_model\u001b[0m\u001b[0;34m.\u001b[0m\u001b[0mget_importance\u001b[0m\u001b[0;34m(\u001b[0m\u001b[0;34m)\u001b[0m\u001b[0;34m\u001b[0m\u001b[0;34m\u001b[0m\u001b[0m\n\u001b[0m",
            "\u001b[0;31mAttributeError\u001b[0m: 'CausalForestDML' object has no attribute 'get_importance'"
          ]
        }
      ],
      "source": [
        "# cf_model.get_importance()"
      ]
    }
  ],
  "metadata": {
    "colab": {
      "provenance": [],
      "toc_visible": true
    },
    "kernelspec": {
      "display_name": "Python 3",
      "name": "python3"
    },
    "language_info": {
      "codemirror_mode": {
        "name": "ipython",
        "version": 3
      },
      "file_extension": ".py",
      "mimetype": "text/x-python",
      "name": "python",
      "nbconvert_exporter": "python",
      "pygments_lexer": "ipython3",
      "version": "3.11.6"
    }
  },
  "nbformat": 4,
  "nbformat_minor": 0
}
